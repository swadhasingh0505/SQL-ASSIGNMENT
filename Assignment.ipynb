{
 "cells": [
  {
   "cell_type": "code",
   "execution_count": 42,
   "id": "1d193e3b",
   "metadata": {},
   "outputs": [],
   "source": [
    "import sqlite3\n",
    "import re"
   ]
  },
  {
   "cell_type": "code",
   "execution_count": 49,
   "id": "c0d3da79",
   "metadata": {},
   "outputs": [
    {
     "name": "stdout",
     "output_type": "stream",
     "text": [
      "Enter file name: mbox1.txt\n",
      "Counts:\n",
      "collab.sakaiproject.org 162\n",
      "iupui.edu 38\n",
      "umich.edu 29\n",
      "nakamura.uits.iupui.edu 27\n",
      "localhost 27\n",
      "uct.ac.za 25\n",
      "media.berkeley.edu 16\n",
      "caret.cam.ac.uk 4\n",
      "gmail.com 4\n",
      "david-horwitz-6 4\n"
     ]
    }
   ],
   "source": [
    "conn = sqlite3.connect('emaildb.sqlite')\n",
    "cur = conn.cursor()\n",
    "\n",
    "cur.execute('DROP TABLE IF EXISTS Counts')\n",
    "\n",
    "cur.execute('''\n",
    "CREATE TABLE Counts (org TEXT, count INTEGER)''')\n",
    "\n",
    "file_name = input('Enter file name: ')\n",
    "if len(file_name) < 1:\n",
    "    file_name = 'mbox.txt'\n",
    "\n",
    "try:\n",
    "    with open(file_name, 'r') as file:\n",
    "        for line in file:\n",
    "            emails = re.findall(r'\\b[\\w\\.-]+@[\\w\\.-]+\\b', line)\n",
    "            for email in emails:\n",
    "                domain = email.split('@')[1]\n",
    "                cur.execute('SELECT count FROM Counts WHERE org = ? ', (domain,))\n",
    "                row = cur.fetchone()\n",
    "                if row is None:\n",
    "                    cur.execute('INSERT INTO Counts (org, count) VALUES (?, 1)', (domain,))\n",
    "                else:\n",
    "                    cur.execute('UPDATE Counts SET count = count + 1 WHERE org = ?', (domain,))\n",
    "        conn.commit()\n",
    "\n",
    "        # Retrieve and print the top 10 results\n",
    "        sqlstr = 'SELECT org, count FROM Counts ORDER BY count DESC LIMIT 10'\n",
    "        print('Counts:')\n",
    "        for row in cur.execute(sqlstr):\n",
    "            print(row[0], row[1])\n",
    "\n",
    "except FileNotFoundError:\n",
    "    print('File not found:', file_name)\n",
    "\n",
    "cur.close()"
   ]
  },
  {
   "cell_type": "code",
   "execution_count": null,
   "id": "a0372389",
   "metadata": {},
   "outputs": [],
   "source": []
  }
 ],
 "metadata": {
  "kernelspec": {
   "display_name": "Python 3 (ipykernel)",
   "language": "python",
   "name": "python3"
  },
  "language_info": {
   "codemirror_mode": {
    "name": "ipython",
    "version": 3
   },
   "file_extension": ".py",
   "mimetype": "text/x-python",
   "name": "python",
   "nbconvert_exporter": "python",
   "pygments_lexer": "ipython3",
   "version": "3.11.5"
  }
 },
 "nbformat": 4,
 "nbformat_minor": 5
}
